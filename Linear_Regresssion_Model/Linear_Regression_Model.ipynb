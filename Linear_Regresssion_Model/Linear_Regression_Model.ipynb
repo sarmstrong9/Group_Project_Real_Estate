{
 "cells": [
  {
   "cell_type": "code",
   "execution_count": 1,
   "id": "65c246bb",
   "metadata": {},
   "outputs": [],
   "source": [
    "import pandas as pd\n",
    "from pathlib import Path\n",
    "import matplotlib.pyplot as plt\n",
    "from sklearn.linear_model import LinearRegression "
   ]
  },
  {
   "cell_type": "code",
   "execution_count": 2,
   "id": "b5393e60",
   "metadata": {},
   "outputs": [
    {
     "data": {
      "text/html": [
       "<div>\n",
       "<style scoped>\n",
       "    .dataframe tbody tr th:only-of-type {\n",
       "        vertical-align: middle;\n",
       "    }\n",
       "\n",
       "    .dataframe tbody tr th {\n",
       "        vertical-align: top;\n",
       "    }\n",
       "\n",
       "    .dataframe thead th {\n",
       "        text-align: right;\n",
       "    }\n",
       "</style>\n",
       "<table border=\"1\" class=\"dataframe\">\n",
       "  <thead>\n",
       "    <tr style=\"text-align: right;\">\n",
       "      <th></th>\n",
       "      <th>year</th>\n",
       "      <th>state</th>\n",
       "      <th>median_sale_price</th>\n",
       "      <th>homes_sold</th>\n",
       "      <th>population</th>\n",
       "      <th>migration_total</th>\n",
       "      <th>pop_change</th>\n",
       "    </tr>\n",
       "  </thead>\n",
       "  <tbody>\n",
       "    <tr>\n",
       "      <th>0</th>\n",
       "      <td>2012</td>\n",
       "      <td>Alabama</td>\n",
       "      <td>183719</td>\n",
       "      <td>23764</td>\n",
       "      <td>4764428</td>\n",
       "      <td>104600</td>\n",
       "      <td>19150</td>\n",
       "    </tr>\n",
       "    <tr>\n",
       "      <th>1</th>\n",
       "      <td>2012</td>\n",
       "      <td>Alaska</td>\n",
       "      <td>254725</td>\n",
       "      <td>23660</td>\n",
       "      <td>721186</td>\n",
       "      <td>33415</td>\n",
       "      <td>9224</td>\n",
       "    </tr>\n",
       "    <tr>\n",
       "      <th>2</th>\n",
       "      <td>2012</td>\n",
       "      <td>Arizona</td>\n",
       "      <td>120760</td>\n",
       "      <td>432938</td>\n",
       "      <td>6468907</td>\n",
       "      <td>232457</td>\n",
       "      <td>66606</td>\n",
       "    </tr>\n",
       "    <tr>\n",
       "      <th>3</th>\n",
       "      <td>2012</td>\n",
       "      <td>Arkansas</td>\n",
       "      <td>115643</td>\n",
       "      <td>13690</td>\n",
       "      <td>2912680</td>\n",
       "      <td>76948</td>\n",
       "      <td>6048</td>\n",
       "    </tr>\n",
       "    <tr>\n",
       "      <th>4</th>\n",
       "      <td>2012</td>\n",
       "      <td>California</td>\n",
       "      <td>335525</td>\n",
       "      <td>1305324</td>\n",
       "      <td>37572738</td>\n",
       "      <td>493641</td>\n",
       "      <td>350060</td>\n",
       "    </tr>\n",
       "  </tbody>\n",
       "</table>\n",
       "</div>"
      ],
      "text/plain": [
       "   year       state  median_sale_price  homes_sold  population  \\\n",
       "0  2012     Alabama             183719       23764     4764428   \n",
       "1  2012      Alaska             254725       23660      721186   \n",
       "2  2012     Arizona             120760      432938     6468907   \n",
       "3  2012    Arkansas             115643       13690     2912680   \n",
       "4  2012  California             335525     1305324    37572738   \n",
       "\n",
       "   migration_total  pop_change  \n",
       "0           104600       19150  \n",
       "1            33415        9224  \n",
       "2           232457       66606  \n",
       "3            76948        6048  \n",
       "4           493641      350060  "
      ]
     },
     "execution_count": 2,
     "metadata": {},
     "output_type": "execute_result"
    }
   ],
   "source": [
    "housing_migration_df = pd.read_csv(Path('../Resources/housing_migration.csv'))\n",
    "housing_migration_df.head()"
   ]
  },
  {
   "cell_type": "code",
   "execution_count": 3,
   "id": "9bebc994",
   "metadata": {},
   "outputs": [],
   "source": [
    "X = housing_migration_df.pop_change.values.reshape(-1, 1)\n",
    "y = housing_migration_df.median_sale_price"
   ]
  },
  {
   "cell_type": "code",
   "execution_count": 4,
   "id": "92a4e599",
   "metadata": {},
   "outputs": [
    {
     "data": {
      "text/plain": [
       "LinearRegression()"
      ]
     },
     "execution_count": 4,
     "metadata": {},
     "output_type": "execute_result"
    }
   ],
   "source": [
    "model = LinearRegression()\n",
    "model.fit(X, y)"
   ]
  },
  {
   "cell_type": "code",
   "execution_count": 5,
   "id": "ff2e8fb7",
   "metadata": {},
   "outputs": [
    {
     "name": "stdout",
     "output_type": "stream",
     "text": [
      "(376,)\n"
     ]
    }
   ],
   "source": [
    "y_pred = model.predict(X)\n",
    "print(y_pred.shape)"
   ]
  },
  {
   "cell_type": "code",
   "execution_count": 6,
   "id": "0ddf9978",
   "metadata": {},
   "outputs": [
    {
     "data": {
      "image/png": "[encoded data removed]",
      "text/plain": [
       "<Figure size 432x288 with 1 Axes>"
      ]
     },
     "metadata": {
      "needs_background": "light"
     },
     "output_type": "display_data"
    }
   ],
   "source": [
    "plt.scatter(X, y)\n",
    "plt.plot(X, y_pred, color='red')\n",
    "\n",
    "plt.title(\"Population vs Home Price\")\n",
    "plt.ylabel(\"Median Sale Price\")\n",
    "plt.xlabel(\"Population Change\")\n",
    "plt.xticks(rotation = 45)\n",
    "plt.grid(True)\n",
    "\n",
    "plt.show()"
   ]
  },
  {
   "cell_type": "code",
   "execution_count": 7,
   "id": "670feabb",
   "metadata": {},
   "outputs": [
    {
     "name": "stdout",
     "output_type": "stream",
     "text": [
      "[0.10787262]\n",
      "209366.72414261274\n"
     ]
    }
   ],
   "source": [
    "print(model.coef_)\n",
    "print(model.intercept_)"
   ]
  },
  {
   "cell_type": "code",
   "execution_count": null,
   "id": "cc54de05",
   "metadata": {},
   "outputs": [],
   "source": []
  }
 ],
 "metadata": {
  "kernelspec": {
   "display_name": "mlenv",
   "language": "python",
   "name": "mlenv"
  },
  "language_info": {
   "codemirror_mode": {
    "name": "ipython",
    "version": 3
   },
   "file_extension": ".py",
   "mimetype": "text/x-python",
   "name": "python",
   "nbconvert_exporter": "python",
   "pygments_lexer": "ipython3",
   "version": "3.7.13"
  }
 },
 "nbformat": 4,
 "nbformat_minor": 5
}
